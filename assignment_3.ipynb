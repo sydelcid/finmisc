{
 "cells": [
  {
   "cell_type": "code",
   "execution_count": 3,
   "metadata": {},
   "outputs": [],
   "source": [
    "%matplotlib inline\n",
    "from IPython.core.interactiveshell import InteractiveShell\n",
    "InteractiveShell.ast_node_interactivity = \"all\"\n",
    "\n",
    "import numpy as np\n",
    "import matplotlib.pyplot as plt"
   ]
  },
  {
   "cell_type": "markdown",
   "metadata": {},
   "source": [
    "# Certificate in Quantitative Finance\n",
    "# Assignment for Module 3\n",
    "### April 2019\n",
    "#\n",
    "## Syed Raif Sayeed"
   ]
  },
  {
   "cell_type": "markdown",
   "metadata": {},
   "source": [
    "#### Task\n",
    "Use the expected value of the discounted payoff under the risk-neutral density $ \\mathbb{Q} $\n",
    "\\begin{equation}\n",
    "\\label{eq:riskneut}\n",
    "V (S, t) = e^{-r(T-t)} {E}^{Q}[ \\text{ Payoff} (S_T)]\n",
    "\\end{equation}\n",
    "for the appropriate form of payoff, to consider:\n",
    "1. Binary Options\n",
    "2. Lookback Options: fixed and floating strike; discrete and continuous sampling\n",
    "\n",
    "In both cases use the Euler-Maruyama scheme for initially simulating the underlying stock price. As an initial example, you may use the following set of sample data"
   ]
  },
  {
   "cell_type": "markdown",
   "metadata": {},
   "source": [
    "\\begin{align*}\n",
    "\\text{Today's  stock  price}\\   S_0 &= 100 \\\\\n",
    "\\text{Strike}\\   E &= 100 \\\\\n",
    "\\text{Time to expiry}\\   (T - t) &= 1 year \\\\\n",
    "\\text{Strike}\\   E &= 100 \\\\\n",
    "\\text{volatility}\\ \\sigma &= 20\\% \\\\\n",
    "\\text{constant risk-free interest rate}\\ r &= 5\\% \n",
    "\\end{align*}"
   ]
  },
  {
   "cell_type": "markdown",
   "metadata": {},
   "source": [
    "#### Solution"
   ]
  },
  {
   "cell_type": "markdown",
   "metadata": {},
   "source": [
    "The **Euler-Maruyama** method (also called the **Euler** method) provides an approximate numerical solution of a stochastic differential equation (SDE). It is helpful to simulate the entire price path in a monte-carlo simulation. For example in our equation \\ref{eq:riskneut}, we can simulate the $ S_T $."
   ]
  },
  {
   "cell_type": "code",
   "execution_count": null,
   "metadata": {},
   "outputs": [],
   "source": []
  }
 ],
 "metadata": {
  "kernelspec": {
   "display_name": "Python 3",
   "language": "python",
   "name": "python3"
  },
  "language_info": {
   "codemirror_mode": {
    "name": "ipython",
    "version": 3
   },
   "file_extension": ".py",
   "mimetype": "text/x-python",
   "name": "python",
   "nbconvert_exporter": "python",
   "pygments_lexer": "ipython3",
   "version": "3.7.2"
  },
  "latex_envs": {
   "LaTeX_envs_menu_present": true,
   "autoclose": false,
   "autocomplete": true,
   "bibliofile": "biblio.bib",
   "cite_by": "apalike",
   "current_citInitial": 1,
   "eqLabelWithNumbers": true,
   "eqNumInitial": 1,
   "hotkeys": {
    "equation": "Ctrl-E",
    "itemize": "Ctrl-I"
   },
   "labels_anchors": false,
   "latex_user_defs": false,
   "report_style_numbering": false,
   "user_envs_cfg": false
  },
  "varInspector": {
   "cols": {
    "lenName": 16,
    "lenType": 16,
    "lenVar": 40
   },
   "kernels_config": {
    "python": {
     "delete_cmd_postfix": "",
     "delete_cmd_prefix": "del ",
     "library": "var_list.py",
     "varRefreshCmd": "print(var_dic_list())"
    },
    "r": {
     "delete_cmd_postfix": ") ",
     "delete_cmd_prefix": "rm(",
     "library": "var_list.r",
     "varRefreshCmd": "cat(var_dic_list()) "
    }
   },
   "types_to_exclude": [
    "module",
    "function",
    "builtin_function_or_method",
    "instance",
    "_Feature"
   ],
   "window_display": false
  }
 },
 "nbformat": 4,
 "nbformat_minor": 2
}
